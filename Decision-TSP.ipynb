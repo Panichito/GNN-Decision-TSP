{
 "cells": [
  {
   "cell_type": "markdown",
   "metadata": {},
   "source": [
    "# Undertaking paper replication - A Graph Neural Network for Decision TSP with PyTorch.\n",
    "* Paper: [arXiv](https://arxiv.org/pdf/1809.02721.pdf)\n",
    "* Official repo: [GitHub](https://github.com/machine-reasoning-ufrgs/TSP-GNN)"
   ]
  },
  {
   "cell_type": "markdown",
   "metadata": {},
   "source": [
    "## 0. Import libraries"
   ]
  },
  {
   "cell_type": "code",
   "execution_count": 1,
   "metadata": {},
   "outputs": [
    {
     "name": "stdout",
     "output_type": "stream",
     "text": [
      "PyTorch version: 2.2.1\n"
     ]
    }
   ],
   "source": [
    "import torch\n",
    "import torch.nn as nn\n",
    "import torch.nn.functional as F\n",
    "import numpy as np\n",
    "import matplotlib.pyplot as plt\n",
    "from torchinfo import summary\n",
    "from tqdm.auto import tqdm\n",
    "\n",
    "print(f'PyTorch version: {torch.__version__}')"
   ]
  },
  {
   "cell_type": "markdown",
   "metadata": {},
   "source": [
    "## 1. MLP layer & GraphNN model\n",
    "<img src=\"https://raw.githubusercontent.com/Panichito/GNN-Decision-TSP/main/fig/algorithm1.png\" width=315 alt=\"algo1 GNN TSP solver\"/>"
   ]
  },
  {
   "cell_type": "code",
   "execution_count": 2,
   "metadata": {},
   "outputs": [],
   "source": [
    "class MLP(nn.Module):\n",
    "    def __init__(self, num_layers, input_dim, hidden_dim, output_dim, activation=nn.ReLU(), output_activation=None, name=None):\n",
    "        super().__init__()\n",
    "\n",
    "        layer_sizes = [input_dim] + [hidden_dim] * (num_layers-1) + [output_dim]\n",
    "        activations = [activation] * (num_layers-1) + [output_activation]\n",
    "\n",
    "        self.layers = nn.ModuleList([\n",
    "            nn.Linear(in_features=layer_sizes[i], out_features=layer_sizes[i+1]) for i in range(len(layer_sizes) - 1)\n",
    "        ])\n",
    "        self.activations = nn.ModuleList(activations)\n",
    "\n",
    "    def forward(self, x):\n",
    "        for layer, activation in zip(self.layers[:-1], self.activations):\n",
    "            x = activation(layer(x))\n",
    "        if self.activations[-1] is not None:\n",
    "            return self.activations[-1](self.layers[-1](x))\n",
    "        else:\n",
    "            return self.layers[-1](x)"
   ]
  },
  {
   "cell_type": "code",
   "execution_count": 3,
   "metadata": {},
   "outputs": [],
   "source": [
    "class GraphNN(nn.Module):\n",
    "    def __init__(self, var, mat, msg, loop, MLP_depth=3, Msg_last_activation=None, name='GraphNN'):\n",
    "        super().__init__()\n",
    "        self.var, self.mat, self.msg, self.loop, self.name = var, mat, msg, loop, name\n",
    "\n",
    "        self.MLP_depth = MLP_depth\n",
    "        self.Msg_last_activation = Msg_last_activation\n",
    "\n",
    "        self._init_parameters()\n",
    "\n",
    "        # Define a MLP to compute initial edge embeddings\n",
    "        self.hidden_dim = self.var['V']  # hidden dimension for easy access\n",
    "        self.edge_init_MLP = MLP(\n",
    "            num_layers=self.MLP_depth,\n",
    "            input_dim=2,\n",
    "            hidden_dim=self.hidden_dim,\n",
    "            output_dim=self.hidden_dim,\n",
    "            activation=nn.ReLU(),\n",
    "            output_activation=self.Msg_last_activation,\n",
    "            name='E_init_MLP'\n",
    "        )\n",
    "        # Define E_vote MLP\n",
    "        self.E_vote_MLP = MLP(\n",
    "            num_layers=self.MLP_depth,\n",
    "            input_dim=self.hidden_dim,\n",
    "            hidden_dim=self.hidden_dim,\n",
    "            output_dim=1,\n",
    "            activation=nn.ReLU(),\n",
    "            output_activation=self.Msg_last_activation,\n",
    "            name='E_vote'\n",
    "        )\n",
    "\n",
    "    def forward(self, matrices, forward_time_steps=32):\n",
    "        # Initialize edge embeddings\n",
    "        edge_initial_embeddings = self.edge_init_MLP(torch.cat((matrices['W'], matrices['C']), dim=1))\n",
    "\n",
    "        # Initialize vertex embeddings\n",
    "        total_n = matrices['EV'].size(1)\n",
    "        v_init = torch.randn((1, self.hidden_dim))\n",
    "        vertex_initial_embeddings = v_init / torch.sqrt(torch.tensor(self.hidden_dim, dtype=torch.float32)).repeat(total_n, 1)\n",
    "        initial_embeddings = {\"V\": vertex_initial_embeddings, \"E\": edge_initial_embeddings}\n",
    "\n",
    "        states = {}\n",
    "        for v, init_emb in initial_embeddings.items():\n",
    "            h0 = init_emb\n",
    "            c0 = torch.zeros_like(h0, dtype=torch.float32)\n",
    "            states[v] = (h0, c0)  # hidden state (short-term), cell state (long-term)\n",
    "\n",
    "        for t in range(forward_time_steps):\n",
    "            for v in self.var:\n",
    "                inputs = []\n",
    "                #print(f\">> LOOP {v}_({t})\")\n",
    "                for update in self.loop[v]:\n",
    "                    #print(f\"FOUND update = {update}\")\n",
    "                    if 'var' in update:\n",
    "                        y = states[update['var']][0]  # hx\n",
    "                        if 'msg' in update:\n",
    "                            y = self._msg_MLPs[update['msg']](y)  # E_msg_V(E(t)) or V_msg_E(V(t))\n",
    "                        if 'mat' in update:\n",
    "                            if 'transpose?' in update and update['transpose?'] == True:\n",
    "                                y = torch.matmul(matrices[update['mat']].t(), y)  # EVᵀ × E_msg_V(E(t))\n",
    "                            else:\n",
    "                                y = torch.matmul(matrices[update['mat']], y)  # EV × V_msg_E(V(t))\n",
    "                        inputs.append(y)  # EVᵀ × E_msg_V(E(t)) or EV × V_msg_E(V(t))\n",
    "                    else:\n",
    "                        inputs.append(matrices[update['mat']])\n",
    "\n",
    "                #print(inputs[0].shape)\n",
    "                inputs = torch.cat(inputs, dim=1)\n",
    "                #print(inputs.shape)\n",
    "                hx, cx = states[v]\n",
    "\n",
    "                #print(cx)  # ไม่งั้นค่า cx จะเป็น 0 ตลอดเวลา t\n",
    "                new_h, new_c = self._RNN_cells[v](inputs, (hx, cx))  # UPDATE STATES: V(t+1) ← LSTM(EVᵀ × E_msg_V(E(t))) or E(t+1) ← LSTM(EV × V_msg_E(V(t)))\n",
    "                states[v] = (new_h, new_c)\n",
    "                #states[v] = (torch.relu(new_h), new_c)\n",
    "\n",
    "            last_states = states\n",
    "\n",
    "        E_n = last_states['E'][0]  # last state hx\n",
    "        #print(f'E_n: {E_n.shape}')\n",
    "        #print(f'E_n: {E_n.view(-1, self.hidden_dim).shape}')\n",
    "\n",
    "        # Compute a vote for each embedding\n",
    "        E_vote = self.E_vote_MLP(E_n.view(-1, self.hidden_dim))\n",
    "        #print(f'E_vote: {E_vote.shape}')\n",
    "        E_vote = E_vote.view(-1)\n",
    "        #print(f'E_vote: {E_vote.shape}')\n",
    "        #print(f'E_vote: {E_vote}')\n",
    "\n",
    "        # Compute the number of problems in the batch\n",
    "        num_problems = matrices['n_vertices'].size(0)\n",
    "        n_edges = matrices['n_edges']\n",
    "        n_edges_np = n_edges.cpu().numpy()\n",
    "\n",
    "        # Compute a logit probability for each problem\n",
    "        pred_logits = []\n",
    "        for i in range(num_problems):\n",
    "            start_index = int(n_edges_np[0:i].sum())\n",
    "            end_index = start_index + int(n_edges[i])\n",
    "            #print(start_index, end_index)\n",
    "            logits = E_vote[start_index:end_index].mean()\n",
    "            pred_logits.append(logits)\n",
    "        pred_logits = torch.stack(pred_logits)\n",
    "        predictions = torch.sigmoid(pred_logits)\n",
    "\n",
    "        # Convert logits into probabilities\n",
    "        #print(f\"\\nLogits: {pred_logits}\")\n",
    "        #print(f\"Pred prob: {predictions}\")\n",
    "        #print(f\"Target: {matrices['route_exists']}\")\n",
    "\n",
    "        return predictions\n",
    "\n",
    "    def _init_parameters(self):\n",
    "        self._RNN_cells = nn.ModuleDict()\n",
    "        for v, H in self.var.items():\n",
    "            #print(f\"v = {i}, H = {H}\")\n",
    "            if v == 'V':\n",
    "                self._RNN_cells[v] = nn.LSTMCell(input_size=H, hidden_size=H)\n",
    "            elif v == 'E':\n",
    "                self._RNN_cells[v] = nn.LSTMCell(input_size=H, hidden_size=H)\n",
    "        #print(self._RNN_cells)\n",
    "\n",
    "        self._msg_MLPs = nn.ModuleDict()\n",
    "        for msg, (vin, vout) in self.msg.items():\n",
    "            #print(f\"msg = {msg}, vin = {vin}, vout = {vout}\")\n",
    "            if msg == \"V_msg_E\":\n",
    "                self._msg_MLPs[msg] = MLP(\n",
    "                    num_layers=self.MLP_depth,\n",
    "                    input_dim=self.var[vin],\n",
    "                    hidden_dim=self.var[vin],\n",
    "                    output_dim=self.var[vout],\n",
    "                    activation=nn.ReLU(),\n",
    "                    output_activation=self.Msg_last_activation,\n",
    "                    name=msg)\n",
    "            elif msg == \"E_msg_V\":\n",
    "                self._msg_MLPs[msg] = MLP(\n",
    "                    num_layers=self.MLP_depth,\n",
    "                    input_dim=self.var[vin],\n",
    "                    hidden_dim=self.var[vin],\n",
    "                    output_dim=self.var[vout],\n",
    "                    activation=nn.ReLU(),\n",
    "                    output_activation=self.Msg_last_activation,\n",
    "                    name=msg)\n",
    "        #print(self._msg_LPs)"
   ]
  },
  {
   "cell_type": "markdown",
   "metadata": {},
   "source": [
    "## 2. Creating the [Decision TSP](https://arxiv.org/abs/1809.02721) model"
   ]
  },
  {
   "cell_type": "code",
   "execution_count": 4,
   "metadata": {},
   "outputs": [],
   "source": [
    "def build_network(hidden_dim, MLP_depth):\n",
    "    H = hidden_dim\n",
    "    var = {'V': H, 'E': H}      # V is the set of vertex embeddings, E is the set of edge embeddings\n",
    "    mat = {'EV': ('E', 'V')}    # M is a E×V adjacency matrix connecting each edge to the vertices it is connected to\n",
    "    msg = {\n",
    "        'V_msg_E': ('V', 'E'),  # V_msg_E is a MLP which computes messages from vertex embeddings to edge embeddings\n",
    "        'E_msg_V': ('E', 'V')}  # E_msg_V is a MLP which computes messages from edge embeddings to vertex embeddings\n",
    "    loop ={\n",
    "        'V': [{                 # V(t+1) ← Vu( EVᵀ × E_msg_V(E(t)) )\n",
    "            'mat': 'EV', \n",
    "            'transpose?': True, \n",
    "            'msg': 'E_msg_V', \n",
    "            'var': 'E'}], \n",
    "        'E': [{                 # E(t+1) ← Eu( EV × V_msg_E(V(t)) )\n",
    "            'mat': 'EV', \n",
    "            'msg': 'V_msg_E', \n",
    "            'var': 'V'}]}\n",
    "    gnn = GraphNN(var=var, mat=mat, msg=msg, loop=loop, MLP_depth=MLP_depth)\n",
    "\n",
    "    return gnn"
   ]
  },
  {
   "cell_type": "markdown",
   "metadata": {},
   "source": [
    "## 3. Datasets"
   ]
  },
  {
   "cell_type": "code",
   "execution_count": 5,
   "metadata": {},
   "outputs": [],
   "source": [
    "from gen.instance_loader import InstanceLoader\n",
    "from itertools import islice  # islice(iterable, start, stop, step)\n",
    "\n",
    "train_loader = InstanceLoader('gen/tmp/train')\n",
    "test_loader = InstanceLoader('gen/tmp/test')"
   ]
  },
  {
   "cell_type": "markdown",
   "metadata": {},
   "source": [
    "## 4. Model, loss, and optimizer"
   ]
  },
  {
   "cell_type": "code",
   "execution_count": 6,
   "metadata": {},
   "outputs": [
    {
     "data": {
      "text/plain": [
       "==========================================================================================\n",
       "Layer (type (var_name))                  Param #                   Trainable\n",
       "==========================================================================================\n",
       "GraphNN (GraphNN)                        --                        True\n",
       "├─ModuleDict (_RNN_cells)                --                        True\n",
       "│    └─LSTMCell (V)                      33,280                    True\n",
       "│    └─LSTMCell (E)                      33,280                    True\n",
       "├─ModuleDict (_msg_MLPs)                 --                        True\n",
       "│    └─MLP (V_msg_E)                     --                        True\n",
       "│    │    └─ModuleList (layers)          12,480                    True\n",
       "│    │    └─ModuleList (activations)     --                        --\n",
       "│    └─MLP (E_msg_V)                     --                        True\n",
       "│    │    └─ModuleList (layers)          12,480                    True\n",
       "│    │    └─ModuleList (activations)     --                        --\n",
       "├─MLP (edge_init_MLP)                    --                        True\n",
       "│    └─ModuleList (layers)               --                        True\n",
       "│    │    └─Linear (0)                   192                       True\n",
       "│    │    └─Linear (1)                   4,160                     True\n",
       "│    │    └─Linear (2)                   4,160                     True\n",
       "│    └─ModuleList (activations)          --                        --\n",
       "│    │    └─ReLU (0)                     --                        --\n",
       "│    │    └─ReLU (1)                     --                        --\n",
       "├─MLP (E_vote_MLP)                       --                        True\n",
       "│    └─ModuleList (layers)               --                        True\n",
       "│    │    └─Linear (0)                   4,160                     True\n",
       "│    │    └─Linear (1)                   4,160                     True\n",
       "│    │    └─Linear (2)                   65                        True\n",
       "│    └─ModuleList (activations)          --                        --\n",
       "│    │    └─ReLU (0)                     --                        --\n",
       "│    │    └─ReLU (1)                     --                        --\n",
       "==========================================================================================\n",
       "Total params: 108,417\n",
       "Trainable params: 108,417\n",
       "Non-trainable params: 0\n",
       "=========================================================================================="
      ]
     },
     "execution_count": 6,
     "metadata": {},
     "output_type": "execute_result"
    }
   ],
   "source": [
    "LEARNING_RATE = 2e-4\n",
    "WEIGHT_DECAY = 1e-5\n",
    "L2_NORM_SCALING = 1e-10\n",
    "GLOBAL_NORM_GRADIENT_CLIPPING_RATION = 0.65\n",
    "\n",
    "torch.manual_seed(42)\n",
    "\n",
    "GNN = build_network(hidden_dim=64, MLP_depth=3)\n",
    "loss_fn = nn.BCELoss()\n",
    "#optimizer = torch.optim.Adam(params=GNN.parameters(), lr=LEARNING_RATE)\n",
    "optimizer = torch.optim.Adam(params=GNN.parameters(), lr=LEARNING_RATE, weight_decay=WEIGHT_DECAY)\n",
    "\n",
    "summary(GNN, col_names=[\"num_params\", \"trainable\"], row_settings=[\"var_names\"])"
   ]
  },
  {
   "cell_type": "markdown",
   "metadata": {},
   "source": [
    "## 5. Training"
   ]
  },
  {
   "cell_type": "code",
   "execution_count": 7,
   "metadata": {},
   "outputs": [],
   "source": [
    "def run_batch(model, loss_fn, optimizer, batch, batch_i, epoch_i, train=False, forward_time_steps=32, print_every=1, device='cpu', verbose=False):\n",
    "    if train:\n",
    "        model.train()\n",
    "    else:\n",
    "        model.eval()\n",
    "    EV, W, C, route_exists, n_vertices, n_edges = batch\n",
    "    EV = torch.tensor(EV, dtype=torch.float32, device=device)\n",
    "    W = torch.tensor(W, dtype=torch.float32, device=device)\n",
    "    C = torch.tensor(C, dtype=torch.float32, device=device)\n",
    "    route_exists = torch.tensor(route_exists, dtype=torch.float32, device=device)\n",
    "    n_vertices = torch.tensor(n_vertices, dtype=torch.float32, device=device)\n",
    "    n_edges = torch.tensor(n_edges, dtype=torch.float32, device=device)\n",
    "\n",
    "    # Forward pass\n",
    "    outputs = model(matrices={\"EV\": EV, \n",
    "                                'W': W, \n",
    "                                'C': C, \n",
    "                                'route_exists': route_exists, \n",
    "                                'n_vertices': n_vertices, \n",
    "                                'n_edges': n_edges}, \n",
    "                    forward_time_steps=forward_time_steps)\n",
    "\n",
    "    # Compute loss\n",
    "    loss = loss_fn(outputs, route_exists)\n",
    "    if train:\n",
    "        # Compute cost relative to L2 normalization\n",
    "        vars_cost = sum(p.norm(2).pow(2) for p in model.parameters())\n",
    "        #print(f\"vars_cost = {vars_cost:.4f}\")\n",
    "\n",
    "        # Define gradients and train step\n",
    "        optimizer.zero_grad()\n",
    "        #loss = loss + vars_cost * L2_NORM_SCALING\n",
    "        loss.backward()\n",
    "        #torch.nn.utils.clip_grad_norm_(model.parameters(), GLOBAL_NORM_GRADIENT_CLIPPING_RATION)\n",
    "        optimizer.step()\n",
    "\n",
    "    # Compute True Positives, False Positives, True Negatives, False Negatives, accuracy\n",
    "    TP = (route_exists * (route_exists == torch.round(outputs))).sum()\n",
    "    FP = (route_exists * (route_exists != torch.round(outputs))).sum()\n",
    "    TN = ((1 - route_exists) * (route_exists == torch.round(outputs))).sum()\n",
    "    FN = ((1 - route_exists) * (route_exists != torch.round(outputs))).sum()\n",
    "    acc = torch.mean((route_exists == torch.round(outputs)).float())\n",
    "    #print(f\"TP: {TP}, FP: {FP}, TN: {TN}, FN: {FN}, acc: {acc}\")\n",
    "\n",
    "    if epoch_i % print_every == 0:\n",
    "        #print(f\" V = {n_vertices}, E = {n_edges}, route_exists = {route_exists} (TP & TN for each graph)\\n EV = {EV.shape}, W = {W.shape}, C = {C.shape}\")\n",
    "        print(\"Epoch: {epoch_i:5d} | {train_or_test} Loss: {loss:.4f} | {train_or_test} Acc: {acc:.2f}%\".format(epoch_i=epoch_i, train_or_test='Train' if train else 'Test', loss=loss, acc=acc*100))\n",
    "        if not train and verbose:\n",
    "            print(f\"Outputs: {outputs}\")\n",
    "            #print(f\"Route exists: {route_exists}\")\n",
    "            #print(f\"TP: {TP}, FP: {FP}, TN: {TN}, FN: {FN}\")\n",
    "\n",
    "    return loss.detach().numpy(), acc.detach().numpy()"
   ]
  },
  {
   "cell_type": "code",
   "execution_count": 8,
   "metadata": {},
   "outputs": [
    {
     "data": {
      "application/vnd.jupyter.widget-view+json": {
       "model_id": "48006cab200c4997ba6dd0b32b6d7223",
       "version_major": 2,
       "version_minor": 0
      },
      "text/plain": [
       "  0%|          | 0/3001 [00:00<?, ?it/s]"
      ]
     },
     "metadata": {},
     "output_type": "display_data"
    },
    {
     "name": "stdout",
     "output_type": "stream",
     "text": [
      "Epoch:     0 | Train Loss: 0.6934 | Train Acc: 50.00%\n",
      "Epoch:     0 | Test Loss: 0.6934 | Test Acc: 50.00%\n",
      "Epoch:   200 | Train Loss: 0.6931 | Train Acc: 60.00%\n",
      "Epoch:   200 | Test Loss: 0.6931 | Test Acc: 50.00%\n",
      "Epoch:   400 | Train Loss: 0.6667 | Train Acc: 60.00%\n",
      "Epoch:   400 | Test Loss: 0.6468 | Test Acc: 50.00%\n",
      "Epoch:   600 | Train Loss: 0.5044 | Train Acc: 80.00%\n",
      "Epoch:   600 | Test Loss: 0.4051 | Test Acc: 100.00%\n",
      "Epoch:   800 | Train Loss: 0.4141 | Train Acc: 70.00%\n",
      "Epoch:   800 | Test Loss: 0.1552 | Test Acc: 100.00%\n",
      "Epoch:  1000 | Train Loss: 0.1471 | Train Acc: 100.00%\n",
      "Epoch:  1000 | Test Loss: 0.2069 | Test Acc: 100.00%\n",
      "Epoch:  1200 | Train Loss: 0.0909 | Train Acc: 100.00%\n",
      "Epoch:  1200 | Test Loss: 0.0750 | Test Acc: 100.00%\n",
      "Epoch:  1400 | Train Loss: 0.0375 | Train Acc: 100.00%\n",
      "Epoch:  1400 | Test Loss: 0.0237 | Test Acc: 100.00%\n",
      "Epoch:  1600 | Train Loss: 0.0324 | Train Acc: 100.00%\n",
      "Epoch:  1600 | Test Loss: 0.0286 | Test Acc: 100.00%\n",
      "Epoch:  1800 | Train Loss: 0.0313 | Train Acc: 100.00%\n",
      "Epoch:  1800 | Test Loss: 0.0123 | Test Acc: 100.00%\n",
      "Epoch:  2000 | Train Loss: 0.0147 | Train Acc: 100.00%\n",
      "Epoch:  2000 | Test Loss: 0.0065 | Test Acc: 100.00%\n",
      "Epoch:  2200 | Train Loss: 0.0139 | Train Acc: 100.00%\n",
      "Epoch:  2200 | Test Loss: 0.0073 | Test Acc: 100.00%\n",
      "Epoch:  2400 | Train Loss: 0.0055 | Train Acc: 100.00%\n",
      "Epoch:  2400 | Test Loss: 0.0040 | Test Acc: 100.00%\n",
      "Epoch:  2600 | Train Loss: 0.0048 | Train Acc: 100.00%\n",
      "Epoch:  2600 | Test Loss: 0.0036 | Test Acc: 100.00%\n",
      "Epoch:  2800 | Train Loss: 0.0034 | Train Acc: 100.00%\n",
      "Epoch:  2800 | Test Loss: 0.0031 | Test Acc: 100.00%\n",
      "Epoch:  3000 | Train Loss: 0.0038 | Train Acc: 100.00%\n",
      "Epoch:  3000 | Test Loss: 0.0011 | Test Acc: 100.00%\n"
     ]
    }
   ],
   "source": [
    "BATCH_SIZE = 5\n",
    "BATCH_PER_EPOCH = 1\n",
    "EPOCHS = 3001\n",
    "DEVIATION = 0.02\n",
    "\n",
    "all_train_loss, all_train_acc, all_test_loss, all_test_acc = [], [], [], []\n",
    "print_every = 200\n",
    "lstm_time_step = 3\n",
    "\n",
    "for epoch_i in tqdm(range(EPOCHS)):\n",
    "    train_loader.reset()\n",
    "    for (batch_i, batch) in islice(enumerate(train_loader.get_batches(BATCH_SIZE, DEVIATION)), BATCH_PER_EPOCH):\n",
    "        #print(f\"Batch {batch_i}\")\n",
    "        train_loss, train_acc = run_batch(GNN, loss_fn, optimizer, batch, batch_i, epoch_i, train=True, forward_time_steps=lstm_time_step, print_every=print_every)\n",
    "        if epoch_i % print_every==0:\n",
    "            all_train_loss.append(train_loss)\n",
    "            all_train_acc.append(train_acc)\n",
    "\n",
    "    if epoch_i % print_every==0:\n",
    "        test_loader.reset()\n",
    "        for (batch_i, batch) in islice(enumerate(test_loader.get_batches(1, DEVIATION)), 1):\n",
    "            #print(f\"Batch {batch_i}\")\n",
    "            test_loss, test_acc = run_batch(GNN, loss_fn, optimizer, batch, batch_i, epoch_i, train=False, forward_time_steps=lstm_time_step, print_every=print_every)\n",
    "            all_test_loss.append(test_loss)\n",
    "            all_test_acc.append(test_acc)"
   ]
  },
  {
   "cell_type": "markdown",
   "metadata": {},
   "source": [
    "## 6. Visualization (loss curve)"
   ]
  },
  {
   "cell_type": "code",
   "execution_count": 9,
   "metadata": {},
   "outputs": [],
   "source": [
    "def visualize_loss_curve(train_loss, test_loss, train_acc=None, test_acc=None, print_every=1, fixed_axis=None, title_name=\"nameless\"):\n",
    "    plt.figure(figsize=(7, 4))\n",
    "    plt.plot([i * print_every for i in range(len(train_loss))], train_loss, label=f'Train Loss', lw=1.6, c='royalblue')\n",
    "    plt.plot([i * print_every for i in range(len(test_loss))], test_loss, label=f'Test Loss', lw=1.2, c='orange')\n",
    "    if train_acc != None:\n",
    "        plt.plot([i * print_every for i in range(len(train_acc))], train_acc, label=f'Train Acc', lw=1.6, c='r', linestyle='--')\n",
    "    if test_acc != None:\n",
    "        plt.plot([i * print_every for i in range(len(test_acc))], test_acc, label=f'Test Acc', lw=1.2, c='g', linestyle='--')\n",
    "    \n",
    "    plt.title(title_name)\n",
    "    plt.xlabel('Epochs')\n",
    "    plt.ylabel('Loss')\n",
    "    plt.legend()\n",
    "    if fixed_axis != None:\n",
    "        plt.ylim(fixed_axis[0], fixed_axis[1])\n",
    "    plt.grid(True)\n",
    "    plt.show()"
   ]
  },
  {
   "cell_type": "code",
   "execution_count": 10,
   "metadata": {},
   "outputs": [
    {
     "data": {
      "image/png": "[encoded data removed]",
      "text/plain": [
       "<Figure size 700x400 with 1 Axes>"
      ]
     },
     "metadata": {},
     "output_type": "display_data"
    },
    {
     "data": {
      "image/png": "[encoded data removed]",
      "text/plain": [
       "<Figure size 700x400 with 1 Axes>"
      ]
     },
     "metadata": {},
     "output_type": "display_data"
    }
   ],
   "source": [
    "axis=[-0.1, 1.1]\n",
    "\n",
    "visualize_loss_curve(all_train_loss, all_test_loss, print_every=print_every, fixed_axis=axis, title_name=\"Loss curve of TSPNN\")\n",
    "visualize_loss_curve(all_train_loss, all_test_loss, all_train_acc, all_test_acc, print_every=print_every, fixed_axis=axis, title_name=\"Loss & Accuracy of TSPNN\")"
   ]
  },
  {
   "cell_type": "markdown",
   "metadata": {},
   "source": [
    "Compared with BCE loss curve from the official paper of $2^{20}$ graphs with $n \\sim \\mathcal{U}(20, 40)$\n",
    "\n",
    "<img src=\"https://raw.githubusercontent.com/Panichito/GNN-Decision-TSP/main/fig/BCEloss_official.png\" width=500 alt=\"loss figure from paper\"/>"
   ]
  },
  {
   "cell_type": "markdown",
   "metadata": {},
   "source": []
  }
 ],
 "metadata": {
  "kernelspec": {
   "display_name": "Python 3",
   "language": "python",
   "name": "python3"
  },
  "language_info": {
   "codemirror_mode": {
    "name": "ipython",
    "version": 3
   },
   "file_extension": ".py",
   "mimetype": "text/x-python",
   "name": "python",
   "nbconvert_exporter": "python",
   "pygments_lexer": "ipython3",
   "version": "3.12.2"
  }
 },
 "nbformat": 4,
 "nbformat_minor": 2
}
